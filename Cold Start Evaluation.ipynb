{
 "cells": [
  {
   "cell_type": "code",
   "execution_count": 5,
   "metadata": {
    "collapsed": true
   },
   "outputs": [],
   "source": [
    "# This step loads the input dataset and creates two lists : udataList and movies\n",
    "\n",
    "import csv\n",
    "\n",
    "udata = []\n",
    "with open('ml-100k/u.data', 'r') as f:\n",
    "    reader1 = csv.reader(f)\n",
    "    udata = list(reader1)\n",
    "\n",
    "udataList = []\n",
    "movies = []\n",
    "for i in udata:\n",
    "    udataList.append(i[0].split('\\t'))\n",
    "    if i[0].split('\\t')[1] not in movies:\n",
    "        movies.append(i[0].split('\\t')[1])"
   ]
  },
  {
   "cell_type": "code",
   "execution_count": 16,
   "metadata": {},
   "outputs": [
    {
     "name": "stdout",
     "output_type": "stream",
     "text": [
      "RMSE: 1.0545\n",
      "MAE:  0.8517\n",
      "RMSE: 1.0572\n",
      "MAE:  0.8668\n",
      "RMSE: 1.0892\n",
      "MAE:  0.8961\n",
      "RMSE: 1.0686\n",
      "MAE:  0.8782\n",
      "RMSE: 1.0204\n",
      "MAE:  0.8266\n"
     ]
    }
   ],
   "source": [
    "# This step calculates the RMSE and MAE over a 5-fold cross validation. The idea is to select 100 random movies and put\n",
    "# 10 records of each of those random movies in training and remaining in test dataset. \n",
    "\n",
    "import numpy as np\n",
    "from surprise import Dataset, Reader\n",
    "from surprise import SVD, accuracy\n",
    "import os\n",
    "\n",
    "diction = {}\n",
    "\n",
    "for i in range(0,5):\n",
    "    reader = Reader(line_format='user item rating', sep='\\t')\n",
    "    \n",
    "    # Select 100 random movies from the list of all movies\n",
    "    random100Movies = np.random.choice(movies, 100, replace=False)\n",
    "    for j in random100Movies:\n",
    "        diction.update({j:0})\n",
    "    \n",
    "    # Create training and test datasets\n",
    "    with open('test','w') as test, open('train','w') as train:\n",
    "        for i in udataList:\n",
    "            if i[1] not in random100Movies:\n",
    "                train.write(str(i[0])+\"\\t\"+str(i[1])+\"\\t\"+str(i[2])+\"\\n\")\n",
    "            elif i[1] in random100Movies and diction[i[1]] <= 1:\n",
    "                train.write(str(i[0])+\"\\t\"+str(i[1])+\"\\t\"+str(i[2])+\"\\n\")\n",
    "                diction[i[1]] += 1\n",
    "            else:\n",
    "                test.write(str(i[0])+\",\"+str(i[1])+\",\"+str(i[2])+\"\\n\")\n",
    "    \n",
    "    file_path = os.path.expanduser('train')\n",
    "    traindata = Dataset.load_from_file(file_path, reader=reader)\n",
    "    \n",
    "    # Convert testset in the required format\n",
    "    with open('test', 'r') as f:\n",
    "        reader = csv.reader(f)\n",
    "        data = list(reader)\n",
    "    li = []\n",
    "    for line in range(1, len(data)):\n",
    "        li.append(tuple(data[line]))\n",
    "    testset = []\n",
    "    for i in li:\n",
    "        testset.append(tuple([i[0],i[1],int(i[2])]))\n",
    "    \n",
    "    # Calculate RMSE and MAE\n",
    "    algo = SVD()\n",
    "    trainset = traindata.build_full_trainset()\n",
    "    algo.fit(trainset)\n",
    "    predictions = algo.test(testset)\n",
    "    accuracy.rmse(predictions, verbose=True)\n",
    "    accuracy.mae(predictions, verbose=True)\n"
   ]
  }
 ],
 "metadata": {
  "kernelspec": {
   "display_name": "Python 3",
   "language": "python",
   "name": "python3"
  },
  "language_info": {
   "codemirror_mode": {
    "name": "ipython",
    "version": 3
   },
   "file_extension": ".py",
   "mimetype": "text/x-python",
   "name": "python",
   "nbconvert_exporter": "python",
   "pygments_lexer": "ipython3",
   "version": "3.6.3"
  }
 },
 "nbformat": 4,
 "nbformat_minor": 2
}
